{
 "cells": [
  {
   "cell_type": "markdown",
   "metadata": {},
   "source": [
    "### Practical Notebook\n",
    "Here we import the required libraries and data sets for training."
   ]
  },
  {
   "cell_type": "code",
   "execution_count": 1,
   "metadata": {},
   "outputs": [],
   "source": [
    "import pickle\n",
    "import numpy as np\n",
    "import matplotlib.pyplot as plt\n",
    "import seaborn as sns\n",
    "import pandas as pd\n",
    "from sklearn.svm import SVC\n",
    "from sklearn.decomposition import PCA\n",
    "from sklearn.linear_model import LogisticRegression\n",
    "from sklearn.ensemble import RandomForestClassifier\n",
    "from sklearn.model_selection import GridSearchCV\n",
    "from sklearn.metrics import accuracy_score, balanced_accuracy_score, confusion_matrix"
   ]
  },
  {
   "cell_type": "code",
   "execution_count": 2,
   "metadata": {},
   "outputs": [],
   "source": [
    "# Load train data\n",
    "X_amp_train = np.load(\"Xtrain_amp.npy\")\n",
    "y_amp_train = np.load(\"ytrain_amp.npy\")"
   ]
  },
  {
   "cell_type": "code",
   "execution_count": 3,
   "metadata": {},
   "outputs": [],
   "source": [
    "# Load test data\n",
    "X_amp_test = np.load(\"Xtest_amp.npy\")\n",
    "y_amp_test = np.load(\"ytest_amp.npy\")"
   ]
  },
  {
   "cell_type": "code",
   "execution_count": 4,
   "metadata": {},
   "outputs": [],
   "source": [
    "# Load train data\n",
    "X_mel_train = np.load(\"Xtrain_mel.npy\")\n",
    "y_mel_train = np.load(\"ytrain_mel.npy\")"
   ]
  },
  {
   "cell_type": "code",
   "execution_count": 5,
   "metadata": {},
   "outputs": [],
   "source": [
    "# Load test data\n",
    "X_mel_test = np.load(\"Xtest_mel.npy\")\n",
    "y_mel_test = np.load(\"ytest_mel.npy\")"
   ]
  },
  {
   "cell_type": "code",
   "execution_count": 6,
   "metadata": {},
   "outputs": [],
   "source": [
    "# Flatten spectrogram features\n",
    "X_mel_train_flat = X_mel_train.reshape(X_mel_train.shape[0], -1)\n",
    "X_mel_test_flat = X_mel_test.reshape(X_mel_test.shape[0], -1)"
   ]
  },
  {
   "cell_type": "markdown",
   "metadata": {},
   "source": [
    "### Part A: Feature Engineering, Baseline Models\n",
    "\n",
    "#### Raw amplitude features\n",
    "\n",
    "Here we apply PCA to our raw amplitude features in order to extract the 500 most significant components."
   ]
  },
  {
   "cell_type": "code",
   "execution_count": 7,
   "metadata": {},
   "outputs": [
    {
     "ename": "NotFittedError",
     "evalue": "This PCA instance is not fitted yet. Call 'fit' with appropriate arguments before using this estimator.",
     "output_type": "error",
     "traceback": [
      "\u001b[0;31m---------------------------------------------------------------------------\u001b[0m",
      "\u001b[0;31mNotFittedError\u001b[0m                            Traceback (most recent call last)",
      "Input \u001b[0;32mIn [7]\u001b[0m, in \u001b[0;36m<cell line: 8>\u001b[0;34m()\u001b[0m\n\u001b[1;32m      5\u001b[0m stand_X_amp_test \u001b[38;5;241m=\u001b[39m (X_amp_test \u001b[38;5;241m-\u001b[39m np\u001b[38;5;241m.\u001b[39mmean(X_amp_test)) \u001b[38;5;241m/\u001b[39m np\u001b[38;5;241m.\u001b[39mstd(X_amp_test)\n\u001b[1;32m      7\u001b[0m \u001b[38;5;66;03m# create our PCA object that will calculate the first 500 components.\u001b[39;00m\n\u001b[0;32m----> 8\u001b[0m X_amp_train_reduced \u001b[38;5;241m=\u001b[39m \u001b[43mpca\u001b[49m\u001b[38;5;241;43m.\u001b[39;49m\u001b[43mtransform\u001b[49m\u001b[43m(\u001b[49m\u001b[43mstand_X_amp_train\u001b[49m\u001b[43m)\u001b[49m\n\u001b[1;32m      9\u001b[0m X_amp_test_reduced \u001b[38;5;241m=\u001b[39m pca\u001b[38;5;241m.\u001b[39mtransform(stand_X_amp_test)\n\u001b[1;32m     11\u001b[0m \u001b[38;5;66;03m# save reduced data as pickle\u001b[39;00m\n",
      "File \u001b[0;32m~/.virtualenvs/cs181/lib/python3.9/site-packages/sklearn/decomposition/_base.py:115\u001b[0m, in \u001b[0;36m_BasePCA.transform\u001b[0;34m(self, X)\u001b[0m\n\u001b[1;32m     97\u001b[0m \u001b[38;5;28;01mdef\u001b[39;00m \u001b[38;5;21mtransform\u001b[39m(\u001b[38;5;28mself\u001b[39m, X):\n\u001b[1;32m     98\u001b[0m     \u001b[38;5;124;03m\"\"\"Apply dimensionality reduction to X.\u001b[39;00m\n\u001b[1;32m     99\u001b[0m \n\u001b[1;32m    100\u001b[0m \u001b[38;5;124;03m    X is projected on the first principal components previously extracted\u001b[39;00m\n\u001b[0;32m   (...)\u001b[0m\n\u001b[1;32m    113\u001b[0m \u001b[38;5;124;03m        is the number of samples and `n_components` is the number of the components.\u001b[39;00m\n\u001b[1;32m    114\u001b[0m \u001b[38;5;124;03m    \"\"\"\u001b[39;00m\n\u001b[0;32m--> 115\u001b[0m     \u001b[43mcheck_is_fitted\u001b[49m\u001b[43m(\u001b[49m\u001b[38;5;28;43mself\u001b[39;49m\u001b[43m)\u001b[49m\n\u001b[1;32m    117\u001b[0m     X \u001b[38;5;241m=\u001b[39m \u001b[38;5;28mself\u001b[39m\u001b[38;5;241m.\u001b[39m_validate_data(X, dtype\u001b[38;5;241m=\u001b[39m[np\u001b[38;5;241m.\u001b[39mfloat64, np\u001b[38;5;241m.\u001b[39mfloat32], reset\u001b[38;5;241m=\u001b[39m\u001b[38;5;28;01mFalse\u001b[39;00m)\n\u001b[1;32m    118\u001b[0m     \u001b[38;5;28;01mif\u001b[39;00m \u001b[38;5;28mself\u001b[39m\u001b[38;5;241m.\u001b[39mmean_ \u001b[38;5;129;01mis\u001b[39;00m \u001b[38;5;129;01mnot\u001b[39;00m \u001b[38;5;28;01mNone\u001b[39;00m:\n",
      "File \u001b[0;32m~/.virtualenvs/cs181/lib/python3.9/site-packages/sklearn/utils/validation.py:1222\u001b[0m, in \u001b[0;36mcheck_is_fitted\u001b[0;34m(estimator, attributes, msg, all_or_any)\u001b[0m\n\u001b[1;32m   1217\u001b[0m     fitted \u001b[38;5;241m=\u001b[39m [\n\u001b[1;32m   1218\u001b[0m         v \u001b[38;5;28;01mfor\u001b[39;00m v \u001b[38;5;129;01min\u001b[39;00m \u001b[38;5;28mvars\u001b[39m(estimator) \u001b[38;5;28;01mif\u001b[39;00m v\u001b[38;5;241m.\u001b[39mendswith(\u001b[38;5;124m\"\u001b[39m\u001b[38;5;124m_\u001b[39m\u001b[38;5;124m\"\u001b[39m) \u001b[38;5;129;01mand\u001b[39;00m \u001b[38;5;129;01mnot\u001b[39;00m v\u001b[38;5;241m.\u001b[39mstartswith(\u001b[38;5;124m\"\u001b[39m\u001b[38;5;124m__\u001b[39m\u001b[38;5;124m\"\u001b[39m)\n\u001b[1;32m   1219\u001b[0m     ]\n\u001b[1;32m   1221\u001b[0m \u001b[38;5;28;01mif\u001b[39;00m \u001b[38;5;129;01mnot\u001b[39;00m fitted:\n\u001b[0;32m-> 1222\u001b[0m     \u001b[38;5;28;01mraise\u001b[39;00m NotFittedError(msg \u001b[38;5;241m%\u001b[39m {\u001b[38;5;124m\"\u001b[39m\u001b[38;5;124mname\u001b[39m\u001b[38;5;124m\"\u001b[39m: \u001b[38;5;28mtype\u001b[39m(estimator)\u001b[38;5;241m.\u001b[39m\u001b[38;5;18m__name__\u001b[39m})\n",
      "\u001b[0;31mNotFittedError\u001b[0m: This PCA instance is not fitted yet. Call 'fit' with appropriate arguments before using this estimator."
     ]
    }
   ],
   "source": [
    "pca = PCA(n_components=500)\n",
    "\n",
    "# standardize data\n",
    "stand_X_amp_train = (X_amp_train - np.mean(X_amp_train)) / np.std(X_amp_train)\n",
    "stand_X_amp_test = (X_amp_test - np.mean(X_amp_test)) / np.std(X_amp_test)\n",
    "\n",
    "# create our PCA object that will calculate the first 500 components.\n",
    "X_amp_train_reduced = pca.transform(stand_X_amp_train)\n",
    "X_amp_test_reduced = pca.transform(stand_X_amp_test)\n",
    "\n",
    "# save reduced data as pickle\n",
    "with open(\"X_amp_train_reduced.pickle\", \"wb\") as file:\n",
    "    pickle.dump(X_amp_train_reduced, file)\n",
    "with open(\"X_amp_test_reduced.pickle\", \"wb\") as file:\n",
    "    pickle.dump(X_amp_test_reduced, file)"
   ]
  },
  {
   "cell_type": "markdown",
   "metadata": {},
   "source": [
    "Once our data set is reduced in dimension, we use it to train a logistic regression classifier."
   ]
  },
  {
   "cell_type": "code",
   "execution_count": null,
   "metadata": {},
   "outputs": [],
   "source": [
    "# load reduced data from pickle\n",
    "with open('X_amp_train_reduced.pickle', \"rb\") as file:\n",
    "    X_amp_train_reduced = pickle.load(file)\n",
    "with open('X_amp_test_reduced.pickle', \"rb\") as file:\n",
    "    X_amp_test_reduced = pickle.load(file)"
   ]
  },
  {
   "cell_type": "code",
   "execution_count": null,
   "metadata": {},
   "outputs": [],
   "source": [
    "# create logistic regression classifier\n",
    "amp_lr_model = LogisticRegression(penalty='l2', tol=0.0001, max_iter=1000)\n",
    "\n",
    "# fit classifier\n",
    "amp_lr_model.fit(X_amp_train_reduced, y_amp_train)\n",
    "\n",
    "# save classifier as pickle\n",
    "with open(\"amp_lr_model.pickle\", \"wb\") as file:\n",
    "    pickle.dump(amp_lr_model, file)"
   ]
  },
  {
   "cell_type": "markdown",
   "metadata": {},
   "source": [
    "With our trained classifier, we make predictions and calculate the over all and per-class accuracies."
   ]
  },
  {
   "cell_type": "code",
   "execution_count": null,
   "metadata": {},
   "outputs": [],
   "source": [
    "# load classifier from pickle\n",
    "with open('amp_lr_model.pickle', \"rb\") as file:\n",
    "    amp_lr_model = pickle.load(file)"
   ]
  },
  {
   "cell_type": "code",
   "execution_count": null,
   "metadata": {},
   "outputs": [],
   "source": [
    "# make predictions\n",
    "y_amp_preds = amp_lr_model.predict(X_amp_test_reduced)\n",
    "\n",
    "# calculate accuracy and balanced accuracy\n",
    "print(\"AMP LR Model Mean Accuracy: \", round(accuracy_score(y_amp_preds, y_amp_test), 3))\n",
    "\n",
    "# create confusion matrix \n",
    "cfm = confusion_matrix(y_amp_test, y_amp_preds)\n",
    "\n",
    "# calculate per-class accuracies from confusion matrix \n",
    "class_accs = np.round(cfm.diagonal() / cfm.sum(axis=1), 3)\n",
    "print(\"AMP LR Model Per-class Accuracies: \"+str(class_accs))\n",
    "\n",
    "# plot confusion matrix\n",
    "sns.heatmap(cfm, annot=True)\n",
    "plt.title(\"Confusion Matrix of AMP LR Model\")\n",
    "plt.xlabel(\"Predicted Class\")\n",
    "plt.ylabel(\"True Class\")\n",
    "plt.show()"
   ]
  },
  {
   "cell_type": "markdown",
   "metadata": {},
   "source": [
    "#### Mel amplitude features\n",
    "\n",
    "Here we do the same procedure for our Mel spectogram features"
   ]
  },
  {
   "cell_type": "code",
   "execution_count": null,
   "metadata": {},
   "outputs": [],
   "source": [
    "# standardize data\n",
    "stand_X_mel_train_flat = (X_mel_train_flat - np.mean(X_mel_train_flat)) / np.std(X_mel_train_flat)\n",
    "stand_X_mel_test_flat = (X_mel_test_flat - np.mean(X_mel_test_flat)) / np.std(X_mel_test_flat)\n",
    "\n",
    "# create our PCA object that will calculate the first 500 components.\n",
    "X_mel_train_reduced = pca.transform(stand_X_mel_train_flat)\n",
    "X_mel_test_reduced = pca.transform(stand_X_mel_test_flat)\n",
    "\n",
    "# save reduced data as pickle\n",
    "with open(\"X_mel_train_reduced.pickle\", \"wb\") as file:\n",
    "    pickle.dump(X_mel_train_reduced, file)\n",
    "with open(\"X_mel_test_reduced.pickle\", \"wb\") as file:\n",
    "    pickle.dump(X_mel_test_reduced, file)"
   ]
  },
  {
   "cell_type": "code",
   "execution_count": null,
   "metadata": {},
   "outputs": [],
   "source": [
    "# load reduced data from pickle\n",
    "with open('X_mel_train_reduced.pickle', \"rb\") as file:\n",
    "    X_mel_train_reduced = pickle.load(file)\n",
    "with open('X_mel_test_reduced.pickle', \"rb\") as file:\n",
    "    X_mel_test_reduced = pickle.load(file)"
   ]
  },
  {
   "cell_type": "code",
   "execution_count": null,
   "metadata": {},
   "outputs": [],
   "source": [
    "# create logistic regression classifier\n",
    "mel_lr_model = LogisticRegression(penalty='l2', tol=0.0001, max_iter=3000)\n",
    "\n",
    "# fit classifier\n",
    "mel_lr_model.fit(X_mel_train_reduced, y_mel_train)\n",
    "\n",
    "# save classifier as pickle\n",
    "with open(\"mel_lr_model.pickle\", \"wb\") as file:\n",
    "    pickle.dump(mel_lr_model, file)"
   ]
  },
  {
   "cell_type": "code",
   "execution_count": null,
   "metadata": {},
   "outputs": [],
   "source": [
    "# load classifier from pickle\n",
    "with open('mel_lr_model.pickle', \"rb\") as file:\n",
    "    mel_lr_model = pickle.load(file)"
   ]
  },
  {
   "cell_type": "code",
   "execution_count": null,
   "metadata": {},
   "outputs": [],
   "source": [
    "# make predictions\n",
    "y_mel_preds = mel_lr_model.predict(X_mel_test_reduced)\n",
    "\n",
    "# calculate accuracy and balanced accuracy\n",
    "print(\"Mel LR Model Mean Accuracy: \", round(accuracy_score(y_mel_preds, y_mel_test), 3))\n",
    "\n",
    "# create confusion matrix \n",
    "cfm = confusion_matrix(y_mel_test, y_mel_preds)\n",
    "\n",
    "# calculate per-class accuracies from confusion matrix \n",
    "class_accs = np.round(cfm.diagonal() / cfm.sum(axis=1), 3)\n",
    "print(\"Mel LR Model Per-class Accuracies: \"+str(class_accs))\n",
    "\n",
    "# plot confusion matrix\n",
    "sns.heatmap(cfm, annot=True)\n",
    "plt.title(\"Confusion Matrix of Mel LR Model\")\n",
    "plt.xlabel(\"Predicted Class\")\n",
    "plt.ylabel(\"True Class\")\n",
    "plt.show()"
   ]
  },
  {
   "cell_type": "markdown",
   "metadata": {},
   "source": [
    "### Part B: More Modeling"
   ]
  },
  {
   "cell_type": "markdown",
   "metadata": {},
   "source": [
    "#### B1: First Step\n",
    "##### Random Forest Classifier on raw amplitude features\n",
    "Here we use a Random Forest Classifier on our raw amplitude features and calculate accuracies."
   ]
  },
  {
   "cell_type": "code",
   "execution_count": null,
   "metadata": {},
   "outputs": [],
   "source": [
    "amp_rf_model = RandomForestClassifier(n_estimators=200, n_jobs=-1, class_weight=\"balanced\")\n",
    "\n",
    "amp_rf_model.fit(X_amp_train_reduced, y_amp_train)\n",
    "\n",
    "# save classifier as pickle\n",
    "with open(\"amp_rf_model.pickle\", \"wb\") as file:\n",
    "    pickle.dump(amp_rf_model, file)"
   ]
  },
  {
   "cell_type": "code",
   "execution_count": null,
   "metadata": {},
   "outputs": [],
   "source": [
    "# load classifier from pickle\n",
    "with open('amp_rf_model.pickle', \"rb\") as file:\n",
    "    amp_rf_model = pickle.load(file)\n",
    "\n",
    "# make predictions\n",
    "y_amp_preds = amp_rf_model.predict(X_amp_test_reduced)\n",
    "\n",
    "# calculate accuracy and balanced accuracy\n",
    "print(\"AMP RF Model Mean Accuracy: \", round(accuracy_score(y_amp_preds, y_amp_test), 3))\n",
    "\n",
    "# create confusion matrix \n",
    "cfm = confusion_matrix(y_amp_test, y_amp_preds)\n",
    "\n",
    "# calculate per-class accuracies from confusion matrix \n",
    "class_accs = np.round(cfm.diagonal() / cfm.sum(axis=1), 3)\n",
    "print(\"AMP RF Model Per-class Accuracies: \"+str(class_accs))\n",
    "\n",
    "# plot confusion matrix\n",
    "sns.heatmap(cfm, annot=True)\n",
    "plt.title(\"Confusion Matrix of AMP RF Model\")\n",
    "plt.xlabel(\"Predicted Class\")\n",
    "plt.ylabel(\"True Class\")\n",
    "plt.show()"
   ]
  },
  {
   "cell_type": "markdown",
   "metadata": {},
   "source": [
    "##### Random Forest Classifier on raw amplitude features\n",
    "Here we use a Random Forest Classifier on our Mel spectogram features and calculate accuracies."
   ]
  },
  {
   "cell_type": "code",
   "execution_count": null,
   "metadata": {},
   "outputs": [],
   "source": [
    "mel_rf_model = RandomForestClassifier(n_estimators=200, n_jobs=-1, class_weight=\"balanced\")\n",
    "\n",
    "mel_rf_model.fit(X_mel_train_reduced, y_mel_train)\n",
    "\n",
    "# save classifier as pickle\n",
    "with open(\"mel_rf_model.pickle\", \"wb\") as file:\n",
    "    pickle.dump(mel_rf_model, file)"
   ]
  },
  {
   "cell_type": "code",
   "execution_count": null,
   "metadata": {},
   "outputs": [],
   "source": [
    "# load classifier from pickle\n",
    "with open('mel_rf_model.pickle', \"rb\") as file:\n",
    "    mel_rf_model = pickle.load(file)\n",
    "\n",
    "# make predictions\n",
    "y_mel_preds = mel_rf_model.predict(X_mel_test_reduced)\n",
    "\n",
    "# calculate accuracy and balanced accuracy\n",
    "print(\"Mel RF Model Mean Accuracy: \", round(accuracy_score(y_mel_preds, y_mel_test), 3))\n",
    "\n",
    "# create confusion matrix \n",
    "cfm = confusion_matrix(y_mel_test, y_mel_preds)\n",
    "\n",
    "# calculate per-class accuracies from confusion matrix \n",
    "class_accs = np.round(cfm.diagonal() / cfm.sum(axis=1), 3)\n",
    "print(\"Mel RF Model Per-class Accuracies: \"+str(class_accs))\n",
    "\n",
    "# plot confusion matrix\n",
    "sns.heatmap(cfm, annot=True)\n",
    "plt.title(\"Confusion Matrix of Mel RF Model\")\n",
    "plt.xlabel(\"Predicted Class\")\n",
    "plt.ylabel(\"True Class\")\n",
    "plt.show()"
   ]
  },
  {
   "cell_type": "markdown",
   "metadata": {},
   "source": [
    "#### B2: More Complicated Models–Hyperparameter Tuning and Validation\n",
    "##### Hyperparameter grid search on Random Forest Classifier for raw amplitude features."
   ]
  },
  {
   "cell_type": "code",
   "execution_count": null,
   "metadata": {},
   "outputs": [],
   "source": [
    "# these are the settings that we will tune: 'C', 'kernel'\n",
    "param_grid = {'n_estimators' : [320, 360, 400, 440, 480, 520], \n",
    "              'class_weight' : [None, 'balanced']}\n",
    "\n",
    "# instantiate our template model\n",
    "amp_rf = RandomForestClassifier()\n",
    "\n",
    "# instantiate our gridsearch estimator - cv=None defaults to the 5-fold cross validation\n",
    "amp_rf_cv = GridSearchCV(estimator=amp_rf, param_grid=param_grid, n_jobs=-1, cv=None, verbose=1)\n",
    "amp_rf_cv.fit(X_amp_train_reduced, y_amp_train)\n",
    "\n",
    "# save classifier as pickle\n",
    "with open(\"amp_rf_cv.pickle\", \"wb\") as file:\n",
    "    pickle.dump(amp_rf_cv, file)"
   ]
  },
  {
   "cell_type": "code",
   "execution_count": null,
   "metadata": {},
   "outputs": [],
   "source": [
    "# load classifier from pickle\n",
    "with open('amp_rf_cv.pickle', \"rb\") as file:\n",
    "    amp_rf_cv = pickle.load(file)\n",
    "\n",
    "# convert our results to a pd.DataFrame\n",
    "amp_rf_results = pd.DataFrame(amp_rf_cv.cv_results_).sort_values(by=['rank_test_score'])\n",
    "amp_rf_results.head(5)"
   ]
  },
  {
   "cell_type": "markdown",
   "metadata": {},
   "source": [
    "##### Hyperparameter grid search on Random Forest Classifier for Mel spectogram features."
   ]
  },
  {
   "cell_type": "code",
   "execution_count": null,
   "metadata": {},
   "outputs": [],
   "source": [
    "# these are the settings that we will tune: 'C', 'kernel'\n",
    "param_grid = {'n_estimators' : [320, 360, 400, 440, 480, 520], \n",
    "              'class_weight' : [None, 'balanced']}\n",
    "\n",
    "# instantiate our template model\n",
    "mel_rf = RandomForestClassifier()\n",
    "\n",
    "# instantiate our gridsearch estimator - cv=None defaults to the 5-fold cross validation\n",
    "mel_rf_cv = GridSearchCV(estimator=mel_rf, param_grid=param_grid, n_jobs=-1, cv=None, verbose=1)\n",
    "mel_rf_cv.fit(X_mel_train_reduced, y_mel_train)\n",
    "\n",
    "# save classifier as pickle\n",
    "with open(\"mel_rf_cv.pickle\", \"wb\") as file:\n",
    "    pickle.dump(mel_rf_cv, file)"
   ]
  },
  {
   "cell_type": "code",
   "execution_count": null,
   "metadata": {},
   "outputs": [],
   "source": [
    "# load classifier from pickle\n",
    "with open('mel_rf_cv.pickle', \"rb\") as file:\n",
    "    mel_rf_cv = pickle.load(file)\n",
    "\n",
    "# convert our results to a pd.DataFrame\n",
    "mel_rf_results = pd.DataFrame(mel_rf_cv.cv_results_).sort_values(by=['rank_test_score'])\n",
    "mel_rf_results.head(5)"
   ]
  },
  {
   "cell_type": "markdown",
   "metadata": {},
   "source": [
    "##### Hyperparameter grid search on Support Vector Machine for raw amplitude features"
   ]
  },
  {
   "cell_type": "code",
   "execution_count": null,
   "metadata": {},
   "outputs": [],
   "source": [
    "# these are the settings that we will tune: 'C', 'kernel'\n",
    "param_grid = {'C' : [0.001, 0.01, 0.1, 1.0, 10.0], \n",
    "              'kernel' : ['rbf', 'sigmoid'],}\n",
    "\n",
    "# instantiate our template model\n",
    "amp_svm = SVC()\n",
    "\n",
    "# instantiate our gridsearch estimator - cv=None defaults to the 5-fold cross validation\n",
    "amp_svm_cv = GridSearchCV(estimator=amp_svm, param_grid=param_grid, n_jobs=-1, cv=None, verbose=1)\n",
    "amp_svm_cv.fit(X_amp_train_reduced, y_amp_train)\n",
    "\n",
    "# save classifier as pickle\n",
    "with open(\"amp_svm_cv.pickle\", \"wb\") as file:\n",
    "    pickle.dump(amp_svm_cv, file)"
   ]
  },
  {
   "cell_type": "code",
   "execution_count": null,
   "metadata": {},
   "outputs": [],
   "source": [
    "# load classifier from pickle\n",
    "with open('amp_svm_cv.pickle', \"rb\") as file:\n",
    "    amp_svm_cv = pickle.load(file)\n",
    "\n",
    "# convert our results to a pd.DataFrame\n",
    "amp_svm_cv_results = pd.DataFrame(amp_svm_cv.cv_results_).sort_values(by=['rank_test_score'])\n",
    "amp_svm_cv_results.head(5)"
   ]
  },
  {
   "cell_type": "markdown",
   "metadata": {},
   "source": [
    "##### Hyperparameter grid search on Support Vector Machine for Mel spectogram features"
   ]
  },
  {
   "cell_type": "code",
   "execution_count": null,
   "metadata": {},
   "outputs": [],
   "source": [
    "# these are the settings that we will tune: 'C', 'kernel'\n",
    "param_grid = {'C' : [0.001, 0.01, 0.1, 1.0, 10.0], \n",
    "              'kernel' : ['rbf', 'sigmoid'],}\n",
    "\n",
    "# instantiate our template model\n",
    "mel_svm = SVC()\n",
    "\n",
    "# instantiate our gridsearch estimator - cv=None defaults to the 5-fold cross validation\n",
    "mel_svm_cv = GridSearchCV(estimator=mel_svm, param_grid=param_grid, n_jobs=-1, cv=None, verbose=1)\n",
    "mel_svm_cv.fit(X_mel_train_reduced, y_mel_train)\n",
    "\n",
    "# save classifier as pickle\n",
    "with open(\"mel_svm_cv.pickle\", \"wb\") as file:\n",
    "    pickle.dump(mel_svm_cv, file)"
   ]
  },
  {
   "cell_type": "code",
   "execution_count": null,
   "metadata": {},
   "outputs": [],
   "source": [
    "# load classifier from pickle\n",
    "with open('mel_svm_cv.pickle', \"rb\") as file:\n",
    "    mel_svm_cv_model = pickle.load(file)\n",
    "\n",
    "# convert our results to a pd.DataFrame\n",
    "mel_svm_cv_results = pd.DataFrame(mel_svm_cv.cv_results_).sort_values(by=['rank_test_score'])\n",
    "mel_svm_cv_results.head(5)"
   ]
  }
 ],
 "metadata": {
  "kernelspec": {
   "display_name": "Python 3 (ipykernel)",
   "language": "python",
   "name": "python3"
  },
  "language_info": {
   "codemirror_mode": {
    "name": "ipython",
    "version": 3
   },
   "file_extension": ".py",
   "mimetype": "text/x-python",
   "name": "python",
   "nbconvert_exporter": "python",
   "pygments_lexer": "ipython3",
   "version": "3.9.9"
  }
 },
 "nbformat": 4,
 "nbformat_minor": 2
}
